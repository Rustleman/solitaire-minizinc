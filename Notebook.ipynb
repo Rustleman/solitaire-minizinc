{
 "cells": [
  {
   "cell_type": "markdown",
   "metadata": {},
   "source": [
    "#  Solitaire\n",
    "*by Alejandro Suárez Hernández*\n",
    "\n",
    "## Introduction\n",
    "\n",
    "This notebook gathers experiments on the Solitaire game. We have modeled the rules in MiniZinc using channeling between two views of the problem (\"stack\" view and \"positions\" view) to conveniently express the problem constraints.\n",
    "\n",
    "The game has mainly two rules:\n",
    "1. Only the top card of the heaps may be removed to put it in the stack.\n",
    "1. Consecutive cards in the stack must have ranks at a distance of *exactly* 1 (ranks are viewed as a ring, so rank m and rank 1 are neighbours).\n",
    "\n",
    "We propose two models. In the first (*mzn/solitaire.mzn*), we enforce the second of these rules by storing the differences between consecutive card numbers of the stack. The domain of the difference variables is the set of valid differences in virtue to the second rule, so this automatically guarantees the accomplishment of the constraint. The second model (*mzn/solitaire_alt.mzn*) enforces the second rule by using the *table* constraint and a look-up table of neighbours, inferred from the input parameters by MiniZinc. This is, the lookup table is defined with built-in MiniZinc functions in the model, so that the data files do not have be bloated with pre-computed auxiliary data structures. Both models are generic: this is, the number of suits, cards per suit, heap size and first card of the stack are parameters, so one can actually build instances for other decks (e.g. the simplified Spanish deck) and change the initial layout of the heaps. For the sake of simplicity, we focus exclusively on the second model, since our exploratory analysis suggests that it outperforms the first one by a significant margin.\n",
    "\n",
    "Our model(s) come with some *.dzn* files (all in the *mzn* folder), so the interested reader can execute MiniZinc with our model directly, without requiring the random generator. These data files also show the expected parameters of our model.\n",
    "\n",
    "We test the performance of the *Gecode* and *Chuffed* solvers with our model against random Solitaire instances.  Our random generator returns a dict with the *.dzn* data. We use the *Pymzn* library to interface with MiniZinc and then gather the results.\n",
    "\n",
    "## Methodology\n",
    "\n",
    "For illustrative purposes, we start with an example problem (created by our random generator) and solve it using both Gecode and Chuffed.\n",
    "\n",
    "Then, we generate random instances from the French and the Spanish deck, comparing the performances of Gecode and Chuffed. It is our purpose to compare the coverage and the solving time in the following scenarios:\n",
    "1. Gecode - French deck\n",
    "1. Chuffed - French deck\n",
    "1. Gecode - Spanish deck\n",
    "1. Chuffed - Spanish deck\n",
    "\n",
    "We will do so executing MiniZinc against 200 random instances for each scenario (the seeds are fixed so the results are reproducible and comparable within the same deck), registering whether their solution has been found and the solving time. In all the cases we will fix the timeout to 60 seconds.\n"
   ]
  },
  {
   "cell_type": "code",
   "execution_count": 1,
   "metadata": {
    "collapsed": true
   },
   "outputs": [],
   "source": [
    "%matplotlib inline\n",
    "\n",
    "from tqdm import tqdm_notebook\n",
    "\n",
    "from IPython.display import display, HTML\n",
    "\n",
    "import solitaire\n",
    "import pickle as pkl\n",
    "import matplotlib.pyplot as plt\n",
    "\n",
    "plt.rcParams[\"figure.figsize\"] = [12, 5]\n",
    "\n",
    "def display_big(text, font_size=28):\n",
    "    text = text.replace(\"\\n\", \"<br>\")\n",
    "    display(HTML('<span style=\"font-size: {}pt; line-height: 1.5em;\">{}</span>'.format(font_size, text)))\n",
    "\n",
    "\n",
    "def display_problem(problem, layout_size=28):\n",
    "    print(\"Bottom:\")\n",
    "    display_big(solitaire.pty_card(problem[\"bottom\"]))\n",
    "    print(\"Initial layout:\")\n",
    "    display_big(solitaire.pty_layout(problem), font_size=layout_size)\n",
    "    \n",
    "def display_result(result, m=13):\n",
    "    if result[\"timeout\"]:\n",
    "        print(\"Timeout after {:.02f}s\".format(result[\"elapsed\"]))\n",
    "    elif not result[\"stack\"]:\n",
    "        print(\"Unsatisfiable. Elapsed: {:.02f}s\".format(result[\"elapsed\"]))\n",
    "    else:\n",
    "        print(\"Stack:\")\n",
    "        display_big(solitaire.pty_stack(result[\"stack\"], m))\n",
    "        print(\"Elapsed: {:.02f}s\".format(result[\"elapsed\"]))\n",
    "        \n",
    "def run_experiment(N, solver=\"gecode\", timeout=300, problem_args={}, cache=None, load=False):\n",
    "    \"\"\"\n",
    "    Creates N random instances and tries to solve them with the given solder. Returns array\n",
    "    of results. Allows caching the results in a file so they do not have to be recomputed\n",
    "    (in some cases this can take a lot of time).\n",
    "    \"\"\"\n",
    "    if load:\n",
    "        assert cache is not None\n",
    "        print(\"Loading {}...\".format(cache))\n",
    "        with open(cache+\".pkl\", \"rb\") as f:\n",
    "                results = pkl.load(f)\n",
    "                print(\"Loaded.\")\n",
    "    else:\n",
    "        solved = []\n",
    "        timeouts = []\n",
    "        unsatisfiable = []\n",
    "        for i in tqdm_notebook(range(N)):\n",
    "            problem = solitaire.generate(rng_seed=i, **problem_args)\n",
    "            result = solitaire.solve(problem, solver_name=solver,\n",
    "                                     exec_args={\"timeout\": timeout})\n",
    "            if result[\"stack\"]:\n",
    "                solved.append(result)\n",
    "            elif result[\"timeout\"]:\n",
    "                timeouts.append(result)\n",
    "            else:\n",
    "                unsatisfiable.append(result)\n",
    "            print('#Solved: {}\\t#Timeouts: {}\\t#Unsatisfiable: {}'.format(\n",
    "                len(solved), len(timeouts), len(unsatisfiable)), end='\\r')\n",
    "        results = {\n",
    "            \"solved\": solved,\n",
    "            \"timeouts\": timeouts,\n",
    "            \"unsatisfiable\": unsatisfiable\n",
    "        }\n",
    "        if cache is not None:\n",
    "            with open(cache+\".pkl\", \"wb\") as f:\n",
    "                pkl.dump(results, f)\n",
    "    return results\n",
    "\n",
    "def plot_results(results, solver, deck, filename=None):\n",
    "    solved = results[\"solved\"]\n",
    "    unsatisfiable = results[\"unsatisfiable\"]\n",
    "    timeouts = results[\"timeouts\"]\n",
    "    elapsed_solved = [s[\"elapsed\"] for s in solved]\n",
    "    elapsed_unsat = [us[\"elapsed\"] for us in unsatisfiable]\n",
    "    data_pie = [len(solved), len(unsatisfiable), len(timeouts)]\n",
    "    # Pie chart\n",
    "    plt.subplot(1,2,1)\n",
    "    labels = ['Solved', 'Unsat', 'Timeout']\n",
    "    plt.pie(data_pie, labels=labels, autopct='%1.1f%%', colors=[\"#a9f971\", \"#ff474c\", \"#90e4c1\"])\n",
    "    plt.axis(\"equal\")\n",
    "    # Histogram\n",
    "    plt.subplot(1,2,2)\n",
    "    plt.grid(\"on\")\n",
    "    plt.hist([elapsed_solved, elapsed_unsat], rwidth=0.5, bins=15, stacked=True)\n",
    "    plt.xlabel(\"Time (s)\")\n",
    "    plt.ylabel(\"Frequency\")\n",
    "    plt.legend((\"Satisfiable\", \"Unsatisfiable\"))\n",
    "    plt.suptitle(\"{} vs {} deck, N=200, #solved={}, #unsat={}, #timeout={}\".format(solver,\n",
    "                                                                                   deck,\n",
    "                                                                                   *data_pie))\n",
    "    plt.tight_layout(rect=[0, 0, 1, 0.95])\n",
    "    if filename is None:\n",
    "        plt.show()\n",
    "    else:\n",
    "        plt.savefig(filename)"
   ]
  },
  {
   "cell_type": "markdown",
   "metadata": {},
   "source": [
    "## Experiments\n",
    "\n",
    "### French deck\n",
    "\n",
    "Our experiments will begin with the French deck. Sorted cards in the French deck:"
   ]
  },
  {
   "cell_type": "code",
   "execution_count": 2,
   "metadata": {
    "scrolled": false
   },
   "outputs": [
    {
     "data": {
      "text/html": [
       "<span style=\"font-size: 28pt; line-height: 1.5em;\">🂡 🂢 🂣 🂤 🂥 🂦 🂧 🂨 🂩 🂪 🂫 🂬 🂭 🂱 🂲 🂳 🂴 🂵 🂶 🂷 🂸 🂹 🂺 🂻 🂼 🂽 🃁 🃂 🃃 🃄 🃅 🃆 🃇 🃈 🃉 🃊 🃋 🃌 🃍 🃑 🃒 🃓 🃔 🃕 🃖 🃗 🃘 🃙 🃚 🃛 🃜 🃝</span>"
      ],
      "text/plain": [
       "<IPython.core.display.HTML object>"
      ]
     },
     "metadata": {},
     "output_type": "display_data"
    }
   ],
   "source": [
    "cards = ' '.join(map(solitaire.pty_card, range(1,53)))\n",
    "display_big(cards)"
   ]
  },
  {
   "cell_type": "markdown",
   "metadata": {},
   "source": [
    "#### Example: solving a single random problem\n",
    "\n",
    "Example of randomly generated problem:"
   ]
  },
  {
   "cell_type": "code",
   "execution_count": 3,
   "metadata": {
    "scrolled": false
   },
   "outputs": [
    {
     "name": "stdout",
     "output_type": "stream",
     "text": [
      "Bottom:\n"
     ]
    },
    {
     "data": {
      "text/html": [
       "<span style=\"font-size: 28pt; line-height: 1.5em;\">🂡</span>"
      ],
      "text/plain": [
       "<IPython.core.display.HTML object>"
      ]
     },
     "metadata": {},
     "output_type": "display_data"
    },
    {
     "name": "stdout",
     "output_type": "stream",
     "text": [
      "Initial layout:\n"
     ]
    },
    {
     "data": {
      "text/html": [
       "<span style=\"font-size: 18pt; line-height: 1.5em;\">🂳  🃜  🂶  🃍  🃚  🂸  🂻  🂴  🃆  🃛  🃊  🃁  🃃  🃔  🃙  🂼  🃗<br>🂽  🂩  🂹  🃝  🂢  🃋  🃄  🂵  🂦  🃂  🂥  🃌  🃈  🃇  🂨  🃅  🂷<br>🃖  🂺  🂬  🂲  🃒  🂪  🃉  🂧  🂱  🃓  🂭  🃘  🂣  🃑  🃕  🂫  🂤</span>"
      ],
      "text/plain": [
       "<IPython.core.display.HTML object>"
      ]
     },
     "metadata": {},
     "output_type": "display_data"
    }
   ],
   "source": [
    "problem = solitaire.generate(rng_seed=43)\n",
    "display_problem(problem, layout_size=18)"
   ]
  },
  {
   "cell_type": "markdown",
   "metadata": {},
   "source": [
    "Solving the problem with different solvers and parameters:"
   ]
  },
  {
   "cell_type": "code",
   "execution_count": 4,
   "metadata": {},
   "outputs": [
    {
     "name": "stdout",
     "output_type": "stream",
     "text": [
      "Timeout after 1.08s\n"
     ]
    }
   ],
   "source": [
    "# This one gives timeout\n",
    "result = solitaire.solve(problem, solver_name=\"gecode\", exec_args={\"timeout\": 1})\n",
    "display_result(result)"
   ]
  },
  {
   "cell_type": "code",
   "execution_count": 5,
   "metadata": {},
   "outputs": [
    {
     "name": "stdout",
     "output_type": "stream",
     "text": [
      "Stack:\n"
     ]
    },
    {
     "data": {
      "text/html": [
       "<span style=\"font-size: 28pt; line-height: 1.5em;\">🂡  🃍  🂼  🂻  🃊  🃙  🂨  🃗  🂶  🂥  🂴  🂳  🃄  🂵  🃆  🂧  🂦  🂷  🂸  🂹  🃚  🃋  🃜  🂽  🂱  🂢  🃃  🂤  🃅  🃔  🃕  🃖  🃇  🃈  🂩  🂪  🃛  🂬  🃝  🃁  🃂  🂣  🃒  🃓  🂲  🃑  🂭  🃌  🂫  🂺  🃉  🃘</span>"
      ],
      "text/plain": [
       "<IPython.core.display.HTML object>"
      ]
     },
     "metadata": {},
     "output_type": "display_data"
    },
    {
     "name": "stdout",
     "output_type": "stream",
     "text": [
      "Elapsed: 4.70s\n"
     ]
    }
   ],
   "source": [
    "result = solitaire.solve(problem, solver_name=\"gecode\", exec_args={\"timeout\": 300})\n",
    "display_result(result)"
   ]
  },
  {
   "cell_type": "code",
   "execution_count": 6,
   "metadata": {},
   "outputs": [
    {
     "name": "stdout",
     "output_type": "stream",
     "text": [
      "Stack:\n"
     ]
    },
    {
     "data": {
      "text/html": [
       "<span style=\"font-size: 28pt; line-height: 1.5em;\">🂡  🃍  🂼  🂻  🃚  🃙  🂸  🃗  🂶  🃅  🃔  🂳  🂴  🃃  🂢  🃁  🂽  🃜  🃛  🃊  🂩  🂺  🂫  🃌  🃋  🂪  🂹  🂨  🃇  🃖  🂵  🃄  🃕  🃆  🂧  🃘  🃉  🃈  🂷  🂦  🂥  🂤  🂣  🃂  🃑  🂭  🂬  🃝  🂱  🃒  🃓  🂲</span>"
      ],
      "text/plain": [
       "<IPython.core.display.HTML object>"
      ]
     },
     "metadata": {},
     "output_type": "display_data"
    },
    {
     "name": "stdout",
     "output_type": "stream",
     "text": [
      "Elapsed: 0.07s\n"
     ]
    }
   ],
   "source": [
    "result = solitaire.solve(problem, solver_name=\"chuffed\", exec_args={\"timeout\": 300})\n",
    "display_result(result)"
   ]
  },
  {
   "cell_type": "markdown",
   "metadata": {},
   "source": [
    "#### Gecode vs French deck"
   ]
  },
  {
   "cell_type": "markdown",
   "metadata": {},
   "source": [
    "Next, we generate 200 instances and (try to) solve them with Gecode. We will divide the results in three categories: solved problems; timeouts; and *proven* unsatisfiable instances."
   ]
  },
  {
   "cell_type": "code",
   "execution_count": 7,
   "metadata": {},
   "outputs": [
    {
     "name": "stdout",
     "output_type": "stream",
     "text": [
      "Loading results_gecode_french...\n",
      "Loaded.\n"
     ]
    }
   ],
   "source": [
    "# WARNING! This takes a LOT of time. We recommend loading the cached .pkl.\n",
    "\n",
    "results_gecode_french = run_experiment(200, solver=\"gecode\", timeout=60, problem_args={},\n",
    "                                       cache=\"results_gecode_french\", load=True)"
   ]
  },
  {
   "cell_type": "code",
   "execution_count": 8,
   "metadata": {},
   "outputs": [
    {
     "name": "stdout",
     "output_type": "stream",
     "text": [
      "Avg. time (sat+unsat): 10.55s\n"
     ]
    },
    {
     "data": {
      "image/png": "[encoded data removed]",
      "text/plain": [
       "<matplotlib.figure.Figure at 0x7f05e43e57b8>"
      ]
     },
     "metadata": {},
     "output_type": "display_data"
    }
   ],
   "source": [
    "plot_results(results_gecode_french, \"Gecode\", \"French\", \"results_gecode_french.pdf\")\n",
    "\n",
    "avg_time_gecode_french = sum([r[\"elapsed\"] for r in results_gecode_french[\"solved\"]])\n",
    "avg_time_gecode_french += sum([r[\"elapsed\"] for r in results_gecode_french[\"unsatisfiable\"]])\n",
    "avg_time_gecode_french /= len(results_gecode_french[\"solved\"]) + len(results_gecode_french[\"unsatisfiable\"])\n",
    "\n",
    "print(\"Avg. time (sat+unsat): {:.02f}s\".format(avg_time_gecode_french))"
   ]
  },
  {
   "cell_type": "markdown",
   "metadata": {},
   "source": [
    "The results are rather underwhelming. Gecode is not able to solve (either proving unsatisfability or finding a solution) more than half of the problems.\n",
    "\n",
    "Almost all the solved instances (and the ones that have been proven unsatisfiable) by Gecode require a rather low solving time. This suggests that some instances are easier than others and that Gecode is able to solve just the easiests ones in the given time.\n",
    "\n",
    "#### Chuffed vs French deck\n",
    "\n",
    "Same procedure, but with Chuffed:"
   ]
  },
  {
   "cell_type": "code",
   "execution_count": 9,
   "metadata": {},
   "outputs": [
    {
     "name": "stdout",
     "output_type": "stream",
     "text": [
      "Loading results_chuffed_french...\n",
      "Loaded.\n"
     ]
    }
   ],
   "source": [
    "results_chuffed_french = run_experiment(200, solver=\"chuffed\", timeout=60, problem_args={},\n",
    "                                       cache=\"results_chuffed_french\", load=True)"
   ]
  },
  {
   "cell_type": "code",
   "execution_count": 10,
   "metadata": {},
   "outputs": [
    {
     "name": "stdout",
     "output_type": "stream",
     "text": [
      "Avg. time (sat+unsat): 0.39s\n"
     ]
    },
    {
     "data": {
      "image/png": "[encoded data removed]",
      "text/plain": [
       "<matplotlib.figure.Figure at 0x7f05e43e5390>"
      ]
     },
     "metadata": {},
     "output_type": "display_data"
    }
   ],
   "source": [
    "plot_results(results_chuffed_french, \"Chuffed\", \"French\", \"results_chuffed_french.pdf\")\n",
    "\n",
    "avg_time_chuffed_french = sum([r[\"elapsed\"] for r in results_chuffed_french[\"solved\"]])\n",
    "avg_time_chuffed_french += sum([r[\"elapsed\"] for r in results_chuffed_french[\"unsatisfiable\"]])\n",
    "avg_time_chuffed_french /= len(results_chuffed_french[\"solved\"]) + len(results_chuffed_french[\"unsatisfiable\"])\n",
    "\n",
    "print(\"Avg. time (sat+unsat): {:.02f}s\".format(avg_time_chuffed_french))"
   ]
  },
  {
   "cell_type": "markdown",
   "metadata": {},
   "source": [
    "Chuffed improves quite significantly over the previous results. Now the coverage is 100% (i.e., all the instances have been either solved or proven unsatisfiable).\n",
    "\n",
    "The solving time is always below 10 seconds (well below the timeout) and, most of the time, lower than 1 second.\n",
    "\n",
    "### (Simplified) Spanish deck\n",
    "\n",
    "The simplified Spanish deck has 4 suits and 40 cards (48 from the complete set minus 2 per suit). The simplified Spanish deck has much less cards than the French deck. Therefore, it is only natural to think that the experiments in this section will take considerably less time.\n",
    "\n",
    "The sorted cards are (using the symbols from the French deck because Unicode does not have symbols for the Spanish deck yet):"
   ]
  },
  {
   "cell_type": "code",
   "execution_count": 11,
   "metadata": {},
   "outputs": [
    {
     "data": {
      "text/html": [
       "<span style=\"font-size: 28pt; line-height: 1.5em;\">🂡 🂢 🂣 🂤 🂥 🂦 🂧 🂨 🂩 🂪 🂱 🂲 🂳 🂴 🂵 🂶 🂷 🂸 🂹 🂺 🃁 🃂 🃃 🃄 🃅 🃆 🃇 🃈 🃉 🃊 🃑 🃒 🃓 🃔 🃕 🃖 🃗 🃘 🃙 🃚</span>"
      ],
      "text/plain": [
       "<IPython.core.display.HTML object>"
      ]
     },
     "metadata": {},
     "output_type": "display_data"
    }
   ],
   "source": [
    "cards = ' '.join(map(lambda c: solitaire.pty_card(c, m=10), range(1,41)))\n",
    "display_big(cards)"
   ]
  },
  {
   "cell_type": "markdown",
   "metadata": {},
   "source": [
    "#### Example: solving a single random problem\n",
    "\n",
    "Example of randomly generated problem:"
   ]
  },
  {
   "cell_type": "code",
   "execution_count": 12,
   "metadata": {},
   "outputs": [
    {
     "name": "stdout",
     "output_type": "stream",
     "text": [
      "Bottom:\n"
     ]
    },
    {
     "data": {
      "text/html": [
       "<span style=\"font-size: 28pt; line-height: 1.5em;\">🂡</span>"
      ],
      "text/plain": [
       "<IPython.core.display.HTML object>"
      ]
     },
     "metadata": {},
     "output_type": "display_data"
    },
    {
     "name": "stdout",
     "output_type": "stream",
     "text": [
      "Initial layout:\n"
     ]
    },
    {
     "data": {
      "text/html": [
       "<span style=\"font-size: 28pt; line-height: 1.5em;\">🃂  🃔  🃇  🃕  🂪  🂦  🂥  🂴  🃒  🂵  🃁  🂨  🂱<br>🂲  🃖  🂷  🃄  🃚  🃃  🂣  🃉  🂳  🂸  🃓  🃅  🂺<br>🃘  🂶  🃊  🂩  🃆  🃈  🂧  🂹  🃙  🂢  🃗  🃑  🂤</span>"
      ],
      "text/plain": [
       "<IPython.core.display.HTML object>"
      ]
     },
     "metadata": {},
     "output_type": "display_data"
    }
   ],
   "source": [
    "problem = solitaire.generate(rng_seed=43, m=10)\n",
    "display_problem(problem)"
   ]
  },
  {
   "cell_type": "markdown",
   "metadata": {},
   "source": [
    "Solving the problem with different solvers and parameters:"
   ]
  },
  {
   "cell_type": "code",
   "execution_count": 13,
   "metadata": {},
   "outputs": [
    {
     "name": "stdout",
     "output_type": "stream",
     "text": [
      "Stack:\n"
     ]
    },
    {
     "data": {
      "text/html": [
       "<span style=\"font-size: 28pt; line-height: 1.5em;\">🂡  🃂  🂱  🂪  🃁  🂲  🃓  🂴  🂥  🂦  🂵  🃔  🃕  🃖  🃇  🂨  🂷  🂸  🃉  🂺  🂹  🃘  🃗  🂶  🃅  🂤  🃃  🃄  🂣  🃒  🂳  🂢  🃑  🃚  🂩  🃊  🃙  🃈  🂧  🃆</span>"
      ],
      "text/plain": [
       "<IPython.core.display.HTML object>"
      ]
     },
     "metadata": {},
     "output_type": "display_data"
    },
    {
     "name": "stdout",
     "output_type": "stream",
     "text": [
      "Elapsed: 0.10s\n"
     ]
    }
   ],
   "source": [
    "result = solitaire.solve(problem, solver_name=\"gecode\", exec_args={\"timeout\": 300})\n",
    "display_result(result, 10)"
   ]
  },
  {
   "cell_type": "code",
   "execution_count": 14,
   "metadata": {},
   "outputs": [
    {
     "name": "stdout",
     "output_type": "stream",
     "text": [
      "Stack:\n"
     ]
    },
    {
     "data": {
      "text/html": [
       "<span style=\"font-size: 28pt; line-height: 1.5em;\">🂡  🃒  🂳  🃔  🃕  🃄  🂵  🂦  🂥  🃖  🃇  🂸  🂩  🂪  🃁  🃂  🃓  🂴  🂣  🂢  🂱  🂺  🃉  🂨  🃗  🂶  🃅  🂤  🃃  🂲  🃑  🃚  🂹  🃈  🂷  🃆  🂧  🃘  🃙  🃊</span>"
      ],
      "text/plain": [
       "<IPython.core.display.HTML object>"
      ]
     },
     "metadata": {},
     "output_type": "display_data"
    },
    {
     "name": "stdout",
     "output_type": "stream",
     "text": [
      "Elapsed: 0.06s\n"
     ]
    }
   ],
   "source": [
    "result = solitaire.solve(problem, solver_name=\"chuffed\", exec_args={\"timeout\": 300})\n",
    "display_result(result, 10)"
   ]
  },
  {
   "cell_type": "markdown",
   "metadata": {},
   "source": [
    "This small example supports our initial guess: the execution with Gecode was much faster. This has to be further validated in the next sections.\n",
    "\n",
    "#### Gecode vs Spanish deck"
   ]
  },
  {
   "cell_type": "code",
   "execution_count": 15,
   "metadata": {},
   "outputs": [
    {
     "name": "stdout",
     "output_type": "stream",
     "text": [
      "Loading results_gecode_spanish...\n",
      "Loaded.\n"
     ]
    }
   ],
   "source": [
    "# WARNING! This takes a LOT of time. We recommend loading the cached .pkl.\n",
    "\n",
    "results_gecode_spanish = run_experiment(200, solver=\"gecode\", timeout=60, problem_args={\"m\":10},\n",
    "                                        cache=\"results_gecode_spanish\", load=True)"
   ]
  },
  {
   "cell_type": "code",
   "execution_count": 16,
   "metadata": {},
   "outputs": [
    {
     "name": "stdout",
     "output_type": "stream",
     "text": [
      "Avg. time (sat+unsat): 3.67s\n"
     ]
    },
    {
     "data": {
      "image/png": "[encoded data removed]",
      "text/plain": [
       "<matplotlib.figure.Figure at 0x7f05e441ce80>"
      ]
     },
     "metadata": {},
     "output_type": "display_data"
    }
   ],
   "source": [
    "plot_results(results_gecode_spanish, \"Gecode\", \"Spanish\", \"gecode_spanish.pdf\")\n",
    "\n",
    "avg_time_gecode_spanish = sum([r[\"elapsed\"] for r in results_gecode_spanish[\"solved\"]])\n",
    "avg_time_gecode_spanish += sum([r[\"elapsed\"] for r in results_gecode_spanish[\"unsatisfiable\"]])\n",
    "avg_time_gecode_spanish /= len(results_gecode_spanish[\"solved\"]) + len(results_gecode_spanish[\"unsatisfiable\"])\n",
    "\n",
    "print(\"Avg. time (sat+unsat): {:.02f}s\".format(avg_time_gecode_spanish))"
   ]
  },
  {
   "cell_type": "markdown",
   "metadata": {},
   "source": [
    "Indeed, now that the problem size is considerably smaller, the results have improved considerable with respect to the French deck/Gecode scenario. However, the coverage is not complete.\n",
    "\n",
    "#### Chuffed vs Spanish deck"
   ]
  },
  {
   "cell_type": "code",
   "execution_count": 17,
   "metadata": {},
   "outputs": [
    {
     "name": "stdout",
     "output_type": "stream",
     "text": [
      "Loading results_chuffed_spanish...\n",
      "Loaded.\n"
     ]
    }
   ],
   "source": [
    "results_chuffed_spanish = run_experiment(200, solver=\"chuffed\", timeout=60, problem_args={\"m\":10},\n",
    "                                        cache=\"results_chuffed_spanish\", load=True)"
   ]
  },
  {
   "cell_type": "code",
   "execution_count": 18,
   "metadata": {},
   "outputs": [
    {
     "name": "stdout",
     "output_type": "stream",
     "text": [
      "Avg. time (sat+unsat): 0.05s\n"
     ]
    },
    {
     "data": {
      "image/png": "[encoded data removed]",
      "text/plain": [
       "<matplotlib.figure.Figure at 0x7f05e441ca58>"
      ]
     },
     "metadata": {},
     "output_type": "display_data"
    }
   ],
   "source": [
    "plot_results(results_chuffed_spanish, \"Chuffed\", \"Spanish\", \"chuffed_spanish.pdf\")\n",
    "\n",
    "avg_time_chuffed_spanish = sum([r[\"elapsed\"] for r in results_chuffed_spanish[\"solved\"]])\n",
    "avg_time_chuffed_spanish += sum([r[\"elapsed\"] for r in results_chuffed_spanish[\"unsatisfiable\"]])\n",
    "avg_time_chuffed_spanish /= len(results_chuffed_spanish[\"solved\"]) + len(results_chuffed_spanish[\"unsatisfiable\"])\n",
    "\n",
    "print(\"Avg. time (sat+unsat): {:.02f}s\".format(avg_time_chuffed_spanish))"
   ]
  },
  {
   "cell_type": "markdown",
   "metadata": {},
   "source": [
    "\n",
    "\n",
    "## Summary\n",
    "\n",
    "|    | French deck/Gecode | French deck/Chuffed | Spanish deck/Gecode | Spanish deck/Chuffed |\n",
    "|----|--------------------|---------------------|---------------------|----------------------|\n",
    "| %Solved                  | 37.0% | 90.5% | 76.5% | 93.5% |\n",
    "| %Unsat                   |  1.0% |  9.5% |  1.0% |  6.5% |\n",
    "| %Timeout                 | 62.0% |  0.0% | 22.5% |  0.0% |\n",
    "| Avg. time (solved+unsat) | 10.6s |  0.4s |  3.7s |  0.1s |\n",
    "\n",
    "All the times shown in this table have been obtained with the following specifications: Intel i7-7700HQ @ 2.8GHz and 8GB of DDR4 RAM."
   ]
  },
  {
   "cell_type": "markdown",
   "metadata": {},
   "source": [
    "## Conclusions\n",
    "\n",
    "Clearly, Chuffed outperforms Gecode both in the Solitaire game with the French deck and with the Spanish deck. This is evidenced by the coverage (always complete for Chuffed, and only partial with Gecode) and in the solving time (without considering timeouts): Chuffed requires between 1 and 2 orders of magnitude less time than Gecode.\n",
    "\n",
    "According to our results, the ratio of solvable vs unsolvable problems of the strategy we use to generate random problems (i.e. random shuffling) is, approximately:\n",
    "* 9.5 solvable problems per each unsolvable one for the French deck.\n",
    "* 14.4 solvable problems per unsolvable one for the Spanish deck.\n",
    "\n",
    "This means that random shuffling is a reasonable strategy for generating solvable solitaire games. Of course, these calculations have been performed using the statistics of the Chuffed solver, that has complete coverage."
   ]
  }
 ],
 "metadata": {
  "kernelspec": {
   "display_name": "Python 3",
   "language": "python",
   "name": "python3"
  },
  "language_info": {
   "codemirror_mode": {
    "name": "ipython",
    "version": 3
   },
   "file_extension": ".py",
   "mimetype": "text/x-python",
   "name": "python",
   "nbconvert_exporter": "python",
   "pygments_lexer": "ipython3",
   "version": "3.5.2"
  }
 },
 "nbformat": 4,
 "nbformat_minor": 2
}
